{
 "cells": [
  {
   "cell_type": "code",
   "execution_count": 3,
   "metadata": {},
   "outputs": [
    {
     "name": "stdout",
     "output_type": "stream",
     "text": [
      "cpu\n"
     ]
    }
   ],
   "source": [
    "import torch\n",
    "device = 'cuda' if torch.cuda.is_available() else 'cpu'\n",
    "print(device)\n",
    "\n",
    "block_size = 8\n",
    "batch_size = 4"
   ]
  },
  {
   "cell_type": "code",
   "execution_count": 1,
   "metadata": {},
   "outputs": [
    {
     "name": "stdout",
     "output_type": "stream",
     "text": [
      "['\\n', ' ', '!', '$', '%', '(', ')', '*', ',', '-', '.', '/', '0', '1', '2', '3', '4', '5', '6', '7', '8', '9', ':', ';', '?', 'A', 'B', 'C', 'D', 'E', 'F', 'G', 'H', 'I', 'J', 'K', 'L', 'M', 'N', 'O', 'P', 'Q', 'R', 'S', 'T', 'U', 'V', 'W', 'X', 'Y', 'Z', 'a', 'b', 'c', 'd', 'e', 'f', 'g', 'h', 'i', 'j', 'k', 'l', 'm', 'n', 'o', 'p', 'q', 'r', 's', 't', 'u', 'v', 'w', 'x', 'y', 'z', '—', '‘', '’', '“', '”', '•', '™', '\\ufeff']\n"
     ]
    }
   ],
   "source": [
    "with open(\"wizard_of_oz.txt\", \"r\", encoding='utf-8') as f:\n",
    "    text = f.read()\n",
    "chars = sorted(set(text))\n",
    "print(chars)\n",
    "vocabulary_size = len(chars)"
   ]
  },
  {
   "cell_type": "code",
   "execution_count": 18,
   "metadata": {},
   "outputs": [
    {
     "name": "stdout",
     "output_type": "stream",
     "text": [
      "tensor([84, 30, 65, 62, 61, 62, 65, 68, 55,  8,  1, 62, 55, 57, 55, 64, 54, 69,\n",
      "         8,  1, 63, 75, 70, 58, 69,  1, 51, 64, 54,  1, 56, 51, 59, 68, 75,  1,\n",
      "        70, 51, 62, 55, 69,  1, 58, 51, 72, 55,  1, 56, 65, 62, 62, 65, 73, 55,\n",
      "        54,  1, 53, 58, 59, 62, 54, 58, 65, 65, 54,  0, 70, 58, 68, 65, 71, 57,\n",
      "        58,  1, 70, 58, 55,  1, 51, 57, 55, 69,  8,  1, 56, 65, 68,  1, 55, 72,\n",
      "        55, 68, 75,  1, 58, 55, 51, 62, 70, 58])\n"
     ]
    }
   ],
   "source": [
    "string_to_int  = { ch:i for i, ch in enumerate(chars)}\n",
    "int_to_string   = { i:ch for i,ch in enumerate(chars)}\n",
    "encode = lambda s: [string_to_int[c] for c in s]\n",
    "decode = lambda l: ''.join([int_to_string[i] for i in l])\n",
    "\n",
    "data = torch.tensor(encode(text), dtype=torch.long)\n",
    "print(data[:100])"
   ]
  },
  {
   "cell_type": "code",
   "execution_count": 19,
   "metadata": {},
   "outputs": [],
   "source": [
    "n = int(0.8*len(data))\n",
    "train_data = data[:n]\n",
    "val_data = data[n:]"
   ]
  },
  {
   "cell_type": "code",
   "execution_count": 20,
   "metadata": {},
   "outputs": [
    {
     "name": "stdout",
     "output_type": "stream",
     "text": [
      "when input is tensor([84]) target is tensor(30)\n",
      "when input is tensor([84, 30]) target is tensor(65)\n",
      "when input is tensor([84, 30, 65]) target is tensor(62)\n",
      "when input is tensor([84, 30, 65, 62]) target is tensor(61)\n",
      "when input is tensor([84, 30, 65, 62, 61]) target is tensor(62)\n",
      "when input is tensor([84, 30, 65, 62, 61, 62]) target is tensor(65)\n",
      "when input is tensor([84, 30, 65, 62, 61, 62, 65]) target is tensor(68)\n",
      "when input is tensor([84, 30, 65, 62, 61, 62, 65, 68]) target is tensor(55)\n"
     ]
    }
   ],
   "source": [
    "x = train_data[:block_size]\n",
    "y = train_data[1:block_size+1]\n",
    "\n",
    "for t in range(block_size):\n",
    "    context = x[:t+1]\n",
    "    target = y[t]\n",
    "    print('when input is', context, 'target is', target)"
   ]
  }
 ],
 "metadata": {
  "kernelspec": {
   "display_name": "CUDA GPT",
   "language": "python",
   "name": "llm"
  },
  "language_info": {
   "codemirror_mode": {
    "name": "ipython",
    "version": 3
   },
   "file_extension": ".py",
   "mimetype": "text/x-python",
   "name": "python",
   "nbconvert_exporter": "python",
   "pygments_lexer": "ipython3",
   "version": "3.12.2"
  }
 },
 "nbformat": 4,
 "nbformat_minor": 4
}
